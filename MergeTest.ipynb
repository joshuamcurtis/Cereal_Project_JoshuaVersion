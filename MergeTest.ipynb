{
 "cells": [
  {
   "cell_type": "code",
   "execution_count": 3,
   "id": "9d24c602",
   "metadata": {},
   "outputs": [
    {
     "data": {
      "text/html": [
       "<div>\n",
       "<style scoped>\n",
       "    .dataframe tbody tr th:only-of-type {\n",
       "        vertical-align: middle;\n",
       "    }\n",
       "\n",
       "    .dataframe tbody tr th {\n",
       "        vertical-align: top;\n",
       "    }\n",
       "\n",
       "    .dataframe thead th {\n",
       "        text-align: right;\n",
       "    }\n",
       "</style>\n",
       "<table border=\"1\" class=\"dataframe\">\n",
       "  <thead>\n",
       "    <tr style=\"text-align: right;\">\n",
       "      <th></th>\n",
       "      <th>Dogs</th>\n",
       "      <th>Cats</th>\n",
       "      <th>Other</th>\n",
       "    </tr>\n",
       "  </thead>\n",
       "  <tbody>\n",
       "    <tr>\n",
       "      <th>0</th>\n",
       "      <td>Corgie</td>\n",
       "      <td>Russian Blue</td>\n",
       "      <td>NaN</td>\n",
       "    </tr>\n",
       "    <tr>\n",
       "      <th>1</th>\n",
       "      <td>Poodle</td>\n",
       "      <td>Tuxedo</td>\n",
       "      <td>NaN</td>\n",
       "    </tr>\n",
       "    <tr>\n",
       "      <th>2</th>\n",
       "      <td>Grey Hound</td>\n",
       "      <td>American Shorthair</td>\n",
       "      <td>NaN</td>\n",
       "    </tr>\n",
       "    <tr>\n",
       "      <th>3</th>\n",
       "      <td>Wolf Hound</td>\n",
       "      <td>Scottish Fold</td>\n",
       "      <td>Goldfish</td>\n",
       "    </tr>\n",
       "    <tr>\n",
       "      <th>4</th>\n",
       "      <td>Pug</td>\n",
       "      <td>Persian</td>\n",
       "      <td>Turtle</td>\n",
       "    </tr>\n",
       "    <tr>\n",
       "      <th>5</th>\n",
       "      <td>Terrier</td>\n",
       "      <td>Siamese</td>\n",
       "      <td>Hamster</td>\n",
       "    </tr>\n",
       "  </tbody>\n",
       "</table>\n",
       "</div>"
      ],
      "text/plain": [
       "         Dogs                Cats     Other\n",
       "0      Corgie        Russian Blue       NaN\n",
       "1      Poodle              Tuxedo       NaN\n",
       "2  Grey Hound  American Shorthair       NaN\n",
       "3  Wolf Hound       Scottish Fold  Goldfish\n",
       "4         Pug             Persian    Turtle\n",
       "5     Terrier             Siamese   Hamster"
      ]
     },
     "execution_count": 3,
     "metadata": {},
     "output_type": "execute_result"
    }
   ],
   "source": [
    "# importing pandas module\n",
    "import pandas as pd\n",
    "\n",
    "DogCat = {\n",
    "    'Dogs':['Corgie', 'Poodle', 'Grey Hound'],\n",
    "    'Cats':['Russian Blue', 'Tuxedo', 'American Shorthair']\n",
    "}\n",
    "\n",
    "pets = {\n",
    "    'Cats':['Scottish Fold', 'Persian', 'Siamese'],\n",
    "    'Dogs':['Wolf Hound', 'Pug', 'Terrier'],\n",
    "    'Other':['Goldfish', 'Turtle', 'Hamster']\n",
    "}\n",
    "\n",
    "pets1_df = pd.DataFrame(DogCat)\n",
    "pets2_df = pd.DataFrame(pets)\n",
    "\n",
    "# concat dataframes\n",
    "pd.concat([pets1_df, pets2_df], axis=0, ignore_index=True)"
   ]
  },
  {
   "cell_type": "code",
   "execution_count": null,
   "id": "c5904193",
   "metadata": {},
   "outputs": [],
   "source": []
  }
 ],
 "metadata": {
  "kernelspec": {
   "display_name": "Python 3 (ipykernel)",
   "language": "python",
   "name": "python3"
  },
  "language_info": {
   "codemirror_mode": {
    "name": "ipython",
    "version": 3
   },
   "file_extension": ".py",
   "mimetype": "text/x-python",
   "name": "python",
   "nbconvert_exporter": "python",
   "pygments_lexer": "ipython3",
   "version": "3.9.7"
  }
 },
 "nbformat": 4,
 "nbformat_minor": 5
}
